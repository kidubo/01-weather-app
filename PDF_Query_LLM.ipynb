{
  "nbformat": 4,
  "nbformat_minor": 0,
  "metadata": {
    "colab": {
      "provenance": [],
      "toc_visible": true,
      "include_colab_link": true
    },
    "kernelspec": {
      "name": "python3",
      "display_name": "Python 3"
    },
    "language_info": {
      "name": "python"
    }
  },
  "cells": [
    {
      "cell_type": "markdown",
      "metadata": {
        "id": "view-in-github",
        "colab_type": "text"
      },
      "source": [
        "<a href=\"https://colab.research.google.com/github/kidubo/01-weather-app/blob/master/PDF_Query_LLM.ipynb\" target=\"_parent\"><img src=\"https://colab.research.google.com/assets/colab-badge.svg\" alt=\"Open In Colab\"/></a>"
      ]
    },
    {
      "cell_type": "code",
      "execution_count": null,
      "metadata": {
        "id": "xlorSbccWEDa",
        "colab": {
          "base_uri": "https://localhost:8080/"
        },
        "outputId": "742b9a0f-432f-4b15-8ae6-ff2045baf03d"
      },
      "outputs": [
        {
          "output_type": "stream",
          "name": "stdout",
          "text": [
            "Collecting langchain\n",
            "  Downloading langchain-0.0.287-py3-none-any.whl (1.7 MB)\n",
            "\u001b[?25l     \u001b[90m━━━━━━━━━━━━━━━━━━━━━━━━━━━━━━━━━━━━━━━━\u001b[0m \u001b[32m0.0/1.7 MB\u001b[0m \u001b[31m?\u001b[0m eta \u001b[36m-:--:--\u001b[0m\r\u001b[2K     \u001b[91m━━━━━\u001b[0m\u001b[91m╸\u001b[0m\u001b[90m━━━━━━━━━━━━━━━━━━━━━━━━━━━━━━━━━━\u001b[0m \u001b[32m0.2/1.7 MB\u001b[0m \u001b[31m7.0 MB/s\u001b[0m eta \u001b[36m0:00:01\u001b[0m\r\u001b[2K     \u001b[91m━━━━━━━━━━━━━━━━━━━━━━━━━━━━━━━━━━━━━━━\u001b[0m\u001b[91m╸\u001b[0m \u001b[32m1.7/1.7 MB\u001b[0m \u001b[31m26.2 MB/s\u001b[0m eta \u001b[36m0:00:01\u001b[0m\r\u001b[2K     \u001b[90m━━━━━━━━━━━━━━━━━━━━━━━━━━━━━━━━━━━━━━━━\u001b[0m \u001b[32m1.7/1.7 MB\u001b[0m \u001b[31m21.8 MB/s\u001b[0m eta \u001b[36m0:00:00\u001b[0m\n",
            "\u001b[?25hRequirement already satisfied: PyYAML>=5.3 in /usr/local/lib/python3.10/dist-packages (from langchain) (6.0.1)\n",
            "Requirement already satisfied: SQLAlchemy<3,>=1.4 in /usr/local/lib/python3.10/dist-packages (from langchain) (2.0.20)\n",
            "Requirement already satisfied: aiohttp<4.0.0,>=3.8.3 in /usr/local/lib/python3.10/dist-packages (from langchain) (3.8.5)\n",
            "Requirement already satisfied: async-timeout<5.0.0,>=4.0.0 in /usr/local/lib/python3.10/dist-packages (from langchain) (4.0.3)\n",
            "Collecting dataclasses-json<0.6.0,>=0.5.7 (from langchain)\n",
            "  Downloading dataclasses_json-0.5.14-py3-none-any.whl (26 kB)\n",
            "Collecting langsmith<0.1.0,>=0.0.21 (from langchain)\n",
            "  Downloading langsmith-0.0.36-py3-none-any.whl (37 kB)\n",
            "Requirement already satisfied: numexpr<3.0.0,>=2.8.4 in /usr/local/lib/python3.10/dist-packages (from langchain) (2.8.5)\n",
            "Requirement already satisfied: numpy<2,>=1 in /usr/local/lib/python3.10/dist-packages (from langchain) (1.23.5)\n",
            "Requirement already satisfied: pydantic<3,>=1 in /usr/local/lib/python3.10/dist-packages (from langchain) (1.10.12)\n",
            "Requirement already satisfied: requests<3,>=2 in /usr/local/lib/python3.10/dist-packages (from langchain) (2.31.0)\n",
            "Requirement already satisfied: tenacity<9.0.0,>=8.1.0 in /usr/local/lib/python3.10/dist-packages (from langchain) (8.2.3)\n",
            "Requirement already satisfied: attrs>=17.3.0 in /usr/local/lib/python3.10/dist-packages (from aiohttp<4.0.0,>=3.8.3->langchain) (23.1.0)\n",
            "Requirement already satisfied: charset-normalizer<4.0,>=2.0 in /usr/local/lib/python3.10/dist-packages (from aiohttp<4.0.0,>=3.8.3->langchain) (3.2.0)\n",
            "Requirement already satisfied: multidict<7.0,>=4.5 in /usr/local/lib/python3.10/dist-packages (from aiohttp<4.0.0,>=3.8.3->langchain) (6.0.4)\n",
            "Requirement already satisfied: yarl<2.0,>=1.0 in /usr/local/lib/python3.10/dist-packages (from aiohttp<4.0.0,>=3.8.3->langchain) (1.9.2)\n",
            "Requirement already satisfied: frozenlist>=1.1.1 in /usr/local/lib/python3.10/dist-packages (from aiohttp<4.0.0,>=3.8.3->langchain) (1.4.0)\n",
            "Requirement already satisfied: aiosignal>=1.1.2 in /usr/local/lib/python3.10/dist-packages (from aiohttp<4.0.0,>=3.8.3->langchain) (1.3.1)\n",
            "Collecting marshmallow<4.0.0,>=3.18.0 (from dataclasses-json<0.6.0,>=0.5.7->langchain)\n",
            "  Downloading marshmallow-3.20.1-py3-none-any.whl (49 kB)\n",
            "\u001b[2K     \u001b[90m━━━━━━━━━━━━━━━━━━━━━━━━━━━━━━━━━━━━━━━━\u001b[0m \u001b[32m49.4/49.4 kB\u001b[0m \u001b[31m5.8 MB/s\u001b[0m eta \u001b[36m0:00:00\u001b[0m\n",
            "\u001b[?25hCollecting typing-inspect<1,>=0.4.0 (from dataclasses-json<0.6.0,>=0.5.7->langchain)\n",
            "  Downloading typing_inspect-0.9.0-py3-none-any.whl (8.8 kB)\n",
            "Requirement already satisfied: typing-extensions>=4.2.0 in /usr/local/lib/python3.10/dist-packages (from pydantic<3,>=1->langchain) (4.5.0)\n",
            "Requirement already satisfied: idna<4,>=2.5 in /usr/local/lib/python3.10/dist-packages (from requests<3,>=2->langchain) (3.4)\n",
            "Requirement already satisfied: urllib3<3,>=1.21.1 in /usr/local/lib/python3.10/dist-packages (from requests<3,>=2->langchain) (2.0.4)\n",
            "Requirement already satisfied: certifi>=2017.4.17 in /usr/local/lib/python3.10/dist-packages (from requests<3,>=2->langchain) (2023.7.22)\n",
            "Requirement already satisfied: greenlet!=0.4.17 in /usr/local/lib/python3.10/dist-packages (from SQLAlchemy<3,>=1.4->langchain) (2.0.2)\n",
            "Requirement already satisfied: packaging>=17.0 in /usr/local/lib/python3.10/dist-packages (from marshmallow<4.0.0,>=3.18.0->dataclasses-json<0.6.0,>=0.5.7->langchain) (23.1)\n",
            "Collecting mypy-extensions>=0.3.0 (from typing-inspect<1,>=0.4.0->dataclasses-json<0.6.0,>=0.5.7->langchain)\n",
            "  Downloading mypy_extensions-1.0.0-py3-none-any.whl (4.7 kB)\n",
            "Installing collected packages: mypy-extensions, marshmallow, typing-inspect, langsmith, dataclasses-json, langchain\n",
            "Successfully installed dataclasses-json-0.5.14 langchain-0.0.287 langsmith-0.0.36 marshmallow-3.20.1 mypy-extensions-1.0.0 typing-inspect-0.9.0\n",
            "Collecting openai\n",
            "  Downloading openai-0.28.0-py3-none-any.whl (76 kB)\n",
            "\u001b[2K     \u001b[90m━━━━━━━━━━━━━━━━━━━━━━━━━━━━━━━━━━━━━━━━\u001b[0m \u001b[32m76.5/76.5 kB\u001b[0m \u001b[31m2.7 MB/s\u001b[0m eta \u001b[36m0:00:00\u001b[0m\n",
            "\u001b[?25hRequirement already satisfied: requests>=2.20 in /usr/local/lib/python3.10/dist-packages (from openai) (2.31.0)\n",
            "Requirement already satisfied: tqdm in /usr/local/lib/python3.10/dist-packages (from openai) (4.66.1)\n",
            "Requirement already satisfied: aiohttp in /usr/local/lib/python3.10/dist-packages (from openai) (3.8.5)\n",
            "Requirement already satisfied: charset-normalizer<4,>=2 in /usr/local/lib/python3.10/dist-packages (from requests>=2.20->openai) (3.2.0)\n",
            "Requirement already satisfied: idna<4,>=2.5 in /usr/local/lib/python3.10/dist-packages (from requests>=2.20->openai) (3.4)\n",
            "Requirement already satisfied: urllib3<3,>=1.21.1 in /usr/local/lib/python3.10/dist-packages (from requests>=2.20->openai) (2.0.4)\n",
            "Requirement already satisfied: certifi>=2017.4.17 in /usr/local/lib/python3.10/dist-packages (from requests>=2.20->openai) (2023.7.22)\n",
            "Requirement already satisfied: attrs>=17.3.0 in /usr/local/lib/python3.10/dist-packages (from aiohttp->openai) (23.1.0)\n",
            "Requirement already satisfied: multidict<7.0,>=4.5 in /usr/local/lib/python3.10/dist-packages (from aiohttp->openai) (6.0.4)\n",
            "Requirement already satisfied: async-timeout<5.0,>=4.0.0a3 in /usr/local/lib/python3.10/dist-packages (from aiohttp->openai) (4.0.3)\n",
            "Requirement already satisfied: yarl<2.0,>=1.0 in /usr/local/lib/python3.10/dist-packages (from aiohttp->openai) (1.9.2)\n",
            "Requirement already satisfied: frozenlist>=1.1.1 in /usr/local/lib/python3.10/dist-packages (from aiohttp->openai) (1.4.0)\n",
            "Requirement already satisfied: aiosignal>=1.1.2 in /usr/local/lib/python3.10/dist-packages (from aiohttp->openai) (1.3.1)\n",
            "Installing collected packages: openai\n",
            "Successfully installed openai-0.28.0\n",
            "Collecting PyPDF2\n",
            "  Downloading pypdf2-3.0.1-py3-none-any.whl (232 kB)\n",
            "\u001b[2K     \u001b[90m━━━━━━━━━━━━━━━━━━━━━━━━━━━━━━━━━━━━━━━\u001b[0m \u001b[32m232.6/232.6 kB\u001b[0m \u001b[31m5.3 MB/s\u001b[0m eta \u001b[36m0:00:00\u001b[0m\n",
            "\u001b[?25hInstalling collected packages: PyPDF2\n",
            "Successfully installed PyPDF2-3.0.1\n",
            "Collecting faiss-cpu\n",
            "  Downloading faiss_cpu-1.7.4-cp310-cp310-manylinux_2_17_x86_64.manylinux2014_x86_64.whl (17.6 MB)\n",
            "\u001b[2K     \u001b[90m━━━━━━━━━━━━━━━━━━━━━━━━━━━━━━━━━━━━━━━━\u001b[0m \u001b[32m17.6/17.6 MB\u001b[0m \u001b[31m71.8 MB/s\u001b[0m eta \u001b[36m0:00:00\u001b[0m\n",
            "\u001b[?25hInstalling collected packages: faiss-cpu\n",
            "Successfully installed faiss-cpu-1.7.4\n",
            "Collecting tiktoken\n",
            "  Downloading tiktoken-0.5.0-cp310-cp310-manylinux_2_17_x86_64.manylinux2014_x86_64.whl (2.0 MB)\n",
            "\u001b[2K     \u001b[90m━━━━━━━━━━━━━━━━━━━━━━━━━━━━━━━━━━━━━━━━\u001b[0m \u001b[32m2.0/2.0 MB\u001b[0m \u001b[31m25.0 MB/s\u001b[0m eta \u001b[36m0:00:00\u001b[0m\n",
            "\u001b[?25hRequirement already satisfied: regex>=2022.1.18 in /usr/local/lib/python3.10/dist-packages (from tiktoken) (2023.6.3)\n",
            "Requirement already satisfied: requests>=2.26.0 in /usr/local/lib/python3.10/dist-packages (from tiktoken) (2.31.0)\n",
            "Requirement already satisfied: charset-normalizer<4,>=2 in /usr/local/lib/python3.10/dist-packages (from requests>=2.26.0->tiktoken) (3.2.0)\n",
            "Requirement already satisfied: idna<4,>=2.5 in /usr/local/lib/python3.10/dist-packages (from requests>=2.26.0->tiktoken) (3.4)\n",
            "Requirement already satisfied: urllib3<3,>=1.21.1 in /usr/local/lib/python3.10/dist-packages (from requests>=2.26.0->tiktoken) (2.0.4)\n",
            "Requirement already satisfied: certifi>=2017.4.17 in /usr/local/lib/python3.10/dist-packages (from requests>=2.26.0->tiktoken) (2023.7.22)\n",
            "Installing collected packages: tiktoken\n",
            "Successfully installed tiktoken-0.5.0\n"
          ]
        }
      ],
      "source": [
        "!pip install langchain\n",
        "!pip install openai\n",
        "!pip install PyPDF2\n",
        "!pip install faiss-cpu\n",
        "!pip install tiktoken"
      ]
    },
    {
      "cell_type": "code",
      "source": [
        "from PyPDF2 import PdfReader\n",
        "from langchain.embeddings.openai import OpenAIEmbeddings\n",
        "from langchain.text_splitter import CharacterTextSplitter\n",
        "from langchain.vectorstores import ElasticVectorSearch, Pinecone, Weaviate, FAISS"
      ],
      "metadata": {
        "id": "nq0vKGFeW1KD"
      },
      "execution_count": null,
      "outputs": []
    },
    {
      "cell_type": "code",
      "source": [
        "# Get your API keys from openai, you will need to create an account.\n",
        "# Here is the link to get the keys: https://platform.openai.com/account/billing/overview\n",
        "import os\n",
        "os.environ[\"OPENAI_API_KEY\"] = \"sk-key\""
      ],
      "metadata": {
        "id": "yKaKB_GjWKjL"
      },
      "execution_count": null,
      "outputs": []
    },
    {
      "cell_type": "code",
      "source": [
        "# connect your Google Drive\n",
        "from google.colab import drive\n",
        "drive.mount('/content/gdrive', force_remount=True)\n",
        "root_dir = \"/content/gdrive/My Drive/\""
      ],
      "metadata": {
        "colab": {
          "base_uri": "https://localhost:8080/"
        },
        "id": "DuSRy_lbWfE3",
        "outputId": "05300c9e-4867-4dd3-b869-7d4cce6b1046"
      },
      "execution_count": null,
      "outputs": [
        {
          "output_type": "stream",
          "name": "stdout",
          "text": [
            "Mounted at /content/gdrive\n"
          ]
        }
      ]
    },
    {
      "cell_type": "code",
      "source": [
        "# location of the pdf file/files.\n",
        "reader = PdfReader('/content/gdrive/My Drive/SURE CREDIT/Unlocking-Mechanisms-for-Greater-Youth-Financial-Inclusion.pdf')"
      ],
      "metadata": {
        "id": "NalD3XkQWrJR"
      },
      "execution_count": null,
      "outputs": []
    },
    {
      "cell_type": "code",
      "source": [
        "reader"
      ],
      "metadata": {
        "colab": {
          "base_uri": "https://localhost:8080/"
        },
        "id": "SwbEBhd0ZUfX",
        "outputId": "9a7fab59-e0a5-4f11-db65-9b3ee89f6cd7"
      },
      "execution_count": null,
      "outputs": [
        {
          "output_type": "execute_result",
          "data": {
            "text/plain": [
              "<PyPDF2._reader.PdfReader at 0x7c9823e34f70>"
            ]
          },
          "metadata": {},
          "execution_count": 7
        }
      ]
    },
    {
      "cell_type": "code",
      "source": [
        "# read data from the file and put them into a variable called raw_text\n",
        "raw_text = ''\n",
        "for i, page in enumerate(reader.pages):\n",
        "    text = page.extract_text()\n",
        "    if text:\n",
        "        raw_text += text"
      ],
      "metadata": {
        "id": "2VXlucKiW7bX"
      },
      "execution_count": null,
      "outputs": []
    },
    {
      "cell_type": "code",
      "source": [
        "raw_text"
      ],
      "metadata": {
        "id": "Gy3UwHGAZa0M",
        "colab": {
          "base_uri": "https://localhost:8080/",
          "height": 174
        },
        "outputId": "8d77afb5-1314-4df7-b585-7168d910ccad"
      },
      "execution_count": null,
      "outputs": [
        {
          "output_type": "execute_result",
          "data": {
            "text/plain": [
              "'PAGE 1\\nPOWERED BY\\nUnlocking mechanisms \\nfor greater youth  \\nfinancial INCLUSIONFSDT FOCUS NOTE\\nNeema Mosha, Advisor - Communications, FSDT      \\nVictor Kyando, Officer - Communications, FSDTFebruary 2021Standing at 1.2 billion, young people account for 1 in 6 of \\nthe global population1 and are growing rapidly in number. \\nHowever, despite the size of this age group, youth face \\nsignificant economic and social barriers to inclusion within \\neducation, employment, health services, civic participation \\nand the financial sector. \\nFinancial exclusion limits young people from benefitting from \\na wide range of products and services that can help them build \\nhousehold income and resilience, protect, and strengthen \\ntheir families, weather unexpected financial shocks and \\nimprove their livelihoods. Unlocking mechanisms for  \\ngreater youth financial inclusionINTRODUCTION\\nAGE DISTRIBUTION\\n16-24 25-34 35-44 45-54 55-64 65-older26% 26%\\n19%\\n14%\\n7%8%\\nSource: FinScope Tanzania 2017 April-JulyYOUTH 1/4 \\nOF POPULATION\\n1/3 OF FINANCIALLY \\nEXCLUDED\\n16-24  \\nYEAR OLDS\\nFinScope Tanzania 2017, FSDT\\n1United Nations World Youth Report 2018The Financial Sector Deepening Trust (FSDT) is committed \\nto its long-term goal that all Tanzanians derive value from \\nregular use of financial services which are delivered with \\ndignity and fairness, particularly marginalised groups such as \\nyouth.  Since 2017, recognising the role that young people \\ncan play as agents of change, FSDT has pursued an active \\nengagement approach among youth and financial sector \\nstakeholders to gather and share insights and provoke \\ndiscussion to further greater youth financial inclusion. \\nBridging the financial inclusion age gap presents a considerable \\nopportunity for the country, which, if not addressed, may \\nresult in negative economic impact, but if realised, could be \\nthe key driver towards sustainable growth. This opportunity \\nhas been recognised by the Tanzanian government as a driver \\nof economic development within national policies and the \\ncontinuing National Youth Development Policy (2007) \\nwhich aims to ensure youth interests and needs are brought \\nto the attention of stakeholders. FSDT launched the IBUA! Campaign in September 2019, \\nto further address information asymmetry, gather evidence \\ndirectly from youth and partner with stakeholders to identify \\nmechanisms to unlock the youth market. This pioneering \\ncampaign aimed to reach its goals through a multi-channel \\napproach to raise awareness and encourage participation by \\nreaching not only industry players and urban youth, but also \\nyouth living in poorer, rural communities. With rising numbers \\nof tech-savvy young people connected by smartphone or \\nthe internet, digital communication played a key role in the \\ncommunication mix.\\nThe IBUA! campaign has effectively demonstrated awareness \\nand interest for dialogue on issues and mechanisms to unlock \\nyouth financial inclusion among all stakeholder groups. Young \\npeople actively participated in raising awareness of their \\nneeds and aspirations and in developing innovative solutions \\nthat are appropriate, affordable and accessible for the youth \\nmarket.\\nAs part of our ongoing engagement strategy, FSDT is \\ndelighted to share this focus note which summarises the \\ndevelopment, implementation and impact of the IBUA! \\ncampaign. We encourage anyone who is interested to contact \\nus and request that you also spread the word on FSDT’s \\nactivities to further youth financial inclusion in Tanzania. \\nDefinition of youth\\nThere are many definitions of youth as this market is primarily \\ndefined around age. However, the needs, challenges and \\nopportunities within this segment can be diverse and overlap \\nwith those of other segments of the population, including \\nwomen, farmers, rural populations and business owners, as \\nwell as dependents and school or university students. \\nFor the purpose of this strategy, the Finance Sector \\nDeepening Trust (FSDT) has utilised FinScope Tanzania \\n2017 data to define how youth should be considered: \\n16-24  \\nYOUNGER  \\nYOUTH25-35  \\nOLDER  \\nYOUTH36+\\nNON  \\nYOUTHPAGE 2 PAGE 3\\nAge Group80+\\n75-79\\n70-74\\n65-69\\n60-64\\n55-59\\n50-54\\n45-49\\n40-44\\n35-39\\n30-34\\n25-29\\n20-24\\n15-19\\n10-14\\n5-9\\n0-4\\n4 6 8 0 2 2 8 6 4Male FemaleStanding at over 6 million people, \\nyouth make up 25% of Tanzanian adult \\npopulation\\nFrom 2 lowest \\nquintiles\\nDependantsRural 79%\\nYouth (16-24)Farmers & FishersFemale76%\\n55%\\n47%\\n32%\\n24%WHO IS BEING LEFT BEHIND?  \\nBase = excluded only Age gap in financial inclusion \\nSource: Tanzania in Figures 2015 (NBS, June 2016) Source: FinScope Tanzania 2017 1 in 3 youth are excluded from formal \\nfinancial services making them one of the \\nmost excluded groups\\nThree in 10 unbanked are aged between  \\n15 and 24, with an urban-rural gap of \\nnearly 30% in formal financial servicesMost educated group by age but lacking in \\neconomic capacity, required documentation \\nand proof of assets to register with formal \\nfinancial services\\n16-24\\n36+DISTRIBUTION OF AGE CATEGORIES BY EDUCATION LEVELS\\nSECONDARY \\nLEVELTECHNICAL \\n/ TERTIARY \\nEDUCATIONPRIMARY \\nLEVELNO FORMAL \\nEDUCATION13.87%21.14%64.98%\\n22.47%30.10%47.44%51.85%\\n31.97%\\n16.18%20.18%43.06%\\n36.75%25-35\\n37%  of youth are  \\nmainly dependent32%  of youth  \\nare unemployed\\n1% of youth have  \\na title deed56%  of youth  \\nhad a form of IDAge 15-24 30%\\n70%ADULTS WITHOUT AN ACCOUNT  \\nBY AGE GROUP (%) 2017\\nSource: Global Findex DatabaseAge 25+\\nRURAL YOUTH HAVE HIGHEST LEVEL OF \\nEXCLUSION AND LACK DECENT INCOME\\n32% 51% 3%14%\\n8% 47% 8% 37%\\nSignificantly lower \\naverage income \\namong rural youth28%  urban-rural \\ngap in formal \\nfinancial servicesBanked Other Formal \\nServicesInformal \\nServicesExcludedSignificant untapped market\\nRural \\nYouthUrban \\nYouth41,667 TSH  \\n/month70,000 TSH  \\n/month \\nUrban Youth\\nRural YouthPAGE 4\\nDistribution of Mobile Money Services Usage by Y outh Category\\n25-35 36+MOBILE MONEY – TZS 61.1 BILLION\\nDo not have service Have service\\n16-2443.14%56.86%\\n33.47%66.53%\\n42.18%57.82%9.67%\\nGAPDo not have service Have service\\n25-35 36+BANKING – TZS 628 BILLION\\n16-2485.67%\\n14.33%80.61%\\n19.39%83.64%\\n16.36%5.06%\\nGAP\\nNon Youth YouthINSURANCE – TZS 52.8 BILLION\\nDo not have service Have service\\n80.94%\\n19.06%87.56%\\n12.44%6.62%\\nGAPLow penetration of market across sector Y outh are least likely to own a mobile phone, \\nbut are better connected to the internetUPTAKE OF FINANCIAL SERVICES\\n0.01%\\n0.04%Capital Markets4%\\n3%2017 201360%\\n17%50%\\n14%\\n15%\\n7%\\n2%2%\\n3%13%Mobile Money Services\\nCommercial Bank Services\\nInsurance Services\\nPension Services\\nMFI/Microlender Services\\nSACCOs\\nSource: FinScope Tanzania 2017 April – July and FinScope Tanzania 2013Savings  \\nGroupsInformal \\nMoneylenderShop & \\nSupply Chain \\nCredit25%\\n12%\\n4%\\n3%16%\\n12%\\nDominance of cash and informal sector13% 41% 33%\\n15% 55% 30%Smart Phones Other Mobile Phones\\n7%56% 16%Access to internet\\n16-24 years\\n25-35 years\\n36 years+\\n44%  save on \\nmobile phones60%  youth use \\nmobile money\\nHigh exclusion in banking  \\nand insurance\\nWith over 6 million \\nyoung people financially \\nexcluded in Tanzania, \\nthere is potential to \\ndevelop innovative \\npolicies and strategies to \\nunlock new income into \\nthe financial sector worth \\nnearly TZS 2,000 billion \\nper year.\\nEstimates of potential value  \\nof youth market  >\\nSources:  FinScope Tanzania 2017 April – July and FinScope Tanzania 2013, Mwaniki, Charles (2017), Youth leading users of mobile banking; 2017 State of the \\nIndustry Report on Mobile Money, GSMA, 2017; Rate of insurance penetration in Sub-Saharan Africa in 2017, by country, Statitisa 2017Distribution of Insurance Services Usage by Y outh CategoryDistribution of Banking Services Usage by Y outh Category\\n43%3.16m youth without mobile money \\nservices86% 6.28m youth without bank accounts\\n13.2 million youth without insurancePAGE 5PAGE 7\\nChallenges to developing youth market\\nThe latest FinScope Tanzania survey revealed distinct \\ncharacteristics of the youth market and provided insights \\ninto their needs, behaviours and challenges in accessing and \\nusing financial solutions to improve their livelihoods. Overall, \\nthe youth population is growing disproportionately quickly \\nand now accounts for over a quarter of adults in Tanzania, \\nbut a third of the financially excluded, with rural youth most \\nsignificantly marginalised.\\nAge gaps of up to 10% across service sectors.  More than 50% \\nof youth use mobile money, but exclusion levels are high in \\nbanking, mobile money and insurance. \\nLack of Know-Y our-Customer (KYC) documentation and \\nassets.  Only 6 out of 10 youth have sufficient ID to fulfil KYC \\nrequirements and only 1% have proof of assets to register with \\nformal financial services.  \\nFast-growing, tech-savvy segment of the population.  Most \\neducated age group with the potential to be nurtured, \\nfinancially educated and cross-sold innovative, targeted \\nfinancial solutions to transform them into profitable lifetime \\ncustomers.                           \\nLack of financial solutions targeting youth.  Many financial \\nservice providers lack knowledge of how the youth market \\noperates and how to engage with it, considering it to be \\ndifficult and unprofitable due to low economic activity, \\nhigh consumer acquisition costs and low expected value. In \\naddition, over a third of youth are dependent on their family \\nand many struggle to open guardian-held accounts as their \\nparents, particularly women, farmers or those living in rural \\nareas, are also likely to be excluded and lacking assets and \\ntherefore unable to act as guarantors.\\nTo participate more fully, youth need to become empowered \\nand build their skills and capacities to take advantage of \\nthe benefits of financial inclusion. Although they are the \\ngeneration with the highest education attainment, their \\nfinancial literacy and business skills are low. Education sits at \\nthe core of youth empowerment and capacity-building for \\ngreater participation in the financial sector.\\nNeed to strengthen the market and regulatory infrastructure \\nto expand and deepen this market.  FSDT aims to work with \\nsector stakeholders to build capacity on the supplier and legal \\nsides by gathering and sharing market data and supporting the \\nTanzanian government’s National Youth Development Policy \\nand the second Five-Year Development Plan, which places \\nfocus on increased productive capacities, skills development \\nand job creation for young people.United Nations Youth\\n“Youth still face many \\nbarriers in accessing financial \\nservices, including restrictions \\nin the legal and regulatory \\nenvironment, inappropriate and \\ninaccessible products and services, and low financial \\ncapabilities. Overcoming these barriers and achieving \\nsuccessful youth financial inclusion requires a multi-\\nstakeholder approach that engages government \\n(including policymakers, regulators and line \\nministries), financial service providers, youth serving \\norganisations and other youth stakeholders. Youth, of \\ncourse, need to be at the centre of this dialogue.”\\nSource: Financial Inclusion of Youth, United Nations Youth, 2012\\nTraditionally, there have been few opportunities for young \\npeople to participate in debate and decision-making that \\naffects their economic and financial lives.  It is clear that \\nmore work needs to be done to reach young people, capture \\ntheir growing voice and enable them to act in their role of a \\nkey driver for economic growth in Tanzania. Source: FinScope Tanzania 2017YOUTH 15 - 24\\nMOBILE \\nMONEYINFORMAL \\nMONEY\\nLENDERSINFORMAL FORMALNON YOUTH\\nNational Youth Development Policy (2007)\\n“Our society’s progress is determined, among other \\nthings, by how much we involve youth in building \\nthe future. It is important therefore to prepare \\nthese young people as leaders, decision-makers, \\nentrepreneurs, parents and guardians, because \\nthey have vital role to play in the socio-economic \\ndevelopment of the nation.” 100\\n50\\n0\\nBANKING \\nSERVICESPENSION SACCO MFI INSURANCEPAGE 6\\nFSDT’s youth strategy \\nFSDT’S VISION\\nFSDT is committed to its long-term goal that all \\nTanzanians derive value from regular use of financial \\nservices which are delivered with dignity and fairness. \\nFSDT’S VISION FOR YOUTH INCLUSION\\nBuilding on the remarkable progress made over the past \\ndecade in improving access to ,usage and benefit fromformal \\nfinancial services across the country, FSDT is leading public-\\nprivate partnerships to further drive the financial inclusion \\nagenda, particularly for marginalised groups such as youth.\\nYOUTH STRATEGY\\nSince 2017, FSDT has pursued an active youth and stakeholder \\nengagement approach to share evidence and insights from \\nboth the demand and supply sides and provoke discussion. \\nUsing age-based analysis of financial inclusion data including \\nFinScope Tanzania 2017, FSDT launched a series of research \\nand innovation sprints including FinSights Lab which explored \\nmarket potential and policies to address market failures within \\nthe youth segment, and FinDisrupt which sought to gain \\ndeeper understanding of behaviours leading to development \\nof mechanisms to increase their usage.\\nWith this deeper understanding of the youth market and the \\nchallenges to greater financial inclusion, FSDT launched a \\nstrategy to be more intentional in serving them and bridging \\nthe age gap.\\nFSDT’s focus on the youth market is driven by 3 key reasons:\\nRapid growth of youth segment of adult population. \\n12%-point age gap in formal financial inclusion \\nbetween younger and older youth and a 5%-point gap \\nbetween younger youth and adults.\\nA higher exclusion rate among younger youth \\ncompared to the national average. \\nFSDT’s methodology for market intervention across the \\nwhole programme is the M4P approach, now more commonly \\nknown as Market Systems Development, which refers to an \\napproach in development known as ‘Making Markets Work \\nfor the Poor’. The objective is to work in partnership with \\nregulators, policy makers, suppliers and young people to engage, discuss and debate to deepen understanding and \\nstimulate new solutions in infrastructure, product offering \\nand investment leading to growth in the youth market. \\nThis approach seeks to change the ways that markets work and \\nshift the youth narrative, so that young people, particularly \\nthose living in rural areas, are included in driving the financial \\ninclusion agenda and, consequently, in the benefits of growth \\nand economic development.\\n1\\n2\\n3“Transformation in financial inclusion is more likely \\nby investing in youth and addressing challenges in the \\nearly stages of their lives.”\\nAnna Mushi, FSDT, Head of Gender & Y outh\\nFSDT’s Youth Strategy\\nASPIRATION: Deepen market segments for \\nfuture economic growth\\nVISION: Y outh derive value from regular use of \\nfinancial services which are delivered with dignity \\nand fairness\\nGOAL: Reduction of uptake gap and increase usage \\nof financial services by youth to derive value from \\nthe financial services they use\\nMISSION/PURPOSE: A financial sector in which \\nstakeholders understand the needs and behaviours \\nof youth and take appropriate corrective actions\\nEXPECTED IMPACTS: \\n• Increased knowledge of youth \\ninformation and gaps to access \\nand usage of formal financial \\nsolutions\\n• Stimulate new concepts and \\nideas of solutions and products \\ngeared towards youthPAGE 9 PAGE 8\\napproach\\nWorking to the mission for stakeholders to better understand \\nthe needs and behaviours of youth and take appropriate \\ncorrective actions, the next stage of FSDT’s youth strategy \\naimed to address information asymmetry, gather evidence \\ndirectly from youth and work in partnership to identify \\nmechanisms to unlock the youth market. \\nOBJECTIVES\\nMeaning ‘provoke’ or ‘expose’, the pioneering IBUA! \\ncampaign used creative communication advocacy approaches \\nto push forward the youth strategy by:\\n• steering dialogue between youth, service providers \\nand regulators towards addressing financial inclusion \\ngaps in access and usage;\\n• improving knowledge on both the supply and demand \\nsides;\\n• igniting behavioural change in youth towards \\nembracing financial services; and,\\n• providing a platform where youth can discuss their \\nissues and think around solutions to their problems.“With IBUA! we wanted to harness media to bring \\nabout positive change. \\nThe big challenge was how we could bring the \\nmessage to young people of all walks of life, and more \\nthan that, how we could open avenues to hear from \\nthese young people. \\nThe biggest statement is having young people at the \\ncentre of policies that are developed for them. Part \\nof the information gap will be filled by the youth \\nthemselves and real-life stories can help in engaging \\nfinancial service providers and regulators to create \\nappropriate solutions and regulations for young \\nTanzanians.”\\nNeema Mosha, FSDT, Communications Advisor\\nActivities\\nIBUA! CAMPAIGN – SEPTEMBER 2019 TO JANUARY 2020\\nThe pioneering multichannel campaign uses a wide range of media to raise awareness and \\ncreate a platform for youth to voice issues and ideas for solutions that can bridge the age \\ngap in financial inclusion. \\nAudio-visual content: radio jingles, documentaries, radio \\nand television drama series, comedy skits and radio spots\\nMarket engagement  to share audio visuals as well as \\nthoughts and feedback from young people including \\nMobile Video Units (MVUs), university debates, radio and \\ntelevision coverage and social media engagement\\nThe National Dialogue  (Jukwaa la Fikra or The Gathering)  and Kijana Shujaa (Courageous Youth ) business challenge competition were scheduled for Spring \\n2020 and has been postponed due to the coronavirus pandemic.Partnerships with media agencies and NGOs  involved \\nwith youth empowerment as well as major media \\ninfluencers\\nIndependent social media accounts  and website for \\nsustainability\\nBy empowering youth to have a greater voice, capturing their insights and sharing them with financial stakeholders, FSDT aims \\nfor youth to become empowered to act as agents of change to transform the financial market, develop new solutions, embrace \\nthose solutions, invest in their future and ultimately break the cycle of poverty. PAGE 11\\n5 UNIVERSITY DEBATES BASED ON KEY THEMES\\nOBJECTIVE:  To raise awareness and ignite \\nconversation \\nTARGET AUDIENCES:  18 to 24-year-olds in \\neducation, service providers, civil society organisations\\nLOCATIONS: Universities in Dar es Salaam, Mwanza, \\nMorogoro, Dodoma and Zanzibar\\nTIMING:  November and December 2019\\nDebates are a popular way of initiating conversations \\naround key messages as participants have the opportunity \\nto make reasoned and well-thought-out arguments \\nin addition to questioning and raising awareness of the \\nexisting gaps in financial inclusion.\\n• Speakers, representing the 3% of higher \\neducated Tanzanian youth, were selected by the \\nuniversity and supported by FSDT-led coaching \\nsessions to improve public speaking skills and \\nknowledge of market data relating to financial \\nservices for young people. \\n• Stakeholder engagement was a critical success \\nfactor on this awareness drive to act as \\nmoderators, judges or speakers for the debates.\\n• Service providers and regulators were given \\nthe opportunity to interact with youth during \\ndebates and using booths within debate venues.STORY KIJIWENI (VILLAGE STORY)/ SOGA ZA \\nMTAA (STREETCHAT) MINI DOCUMENTARIES\\nOBJECTIVE:  To raise awareness on the challenges \\nyouth face when trying to access financial services\\nTARGET AUDIENCES:  16 to 24-year-olds (including \\nthose living in rural areas) and policy makers\\nLOCATIONS: Dar es Salaam, Zanzibar, Morogoro \\nTIMING:  September, 2019 to January, 2020 - once a \\nweek for 12 weeks\\n• Story-telling is an effective way to directly \\nengage in a dialogue with young people.\\n• Content aimed to connect to youth by \\nreflecting reality in youth-informed authentic \\nsituations, with realistic characters, problems \\nand challenges. \\nIBUA! RADIO AND TV DRAMA\\nOBJECTIVE:  To raise awareness on the challenges \\nyouth face when trying to access financial services\\nTARGET AUDIENCES:  Younger & older rural youth\\nLOCATIONS: Upcountry\\nTIMING:  15-20 minute dramas, once a week\\n• Scripts were created based on insights from the \\ndebates, Village Story and Street Chat.\\n• Purchased media spots on radio with free TV \\ntake-up generated by PR, digital distribution \\nand partnerships. \\n• Dramas were reworked for TV and radio using \\nstakeholder feedback. 4 MOBILE VIDEO UNIT (MVU) SESSIONS\\nOBJECTIVE:  To raise awareness on the challenges \\nyouth face when trying to access financial services\\nTARGET AUDIENCES:  Younger and older rural \\nyouth\\nLOCATIONS: Zanzibar, Songwe, Manyara & Singida\\nTIMING:  July 2019, over 6 days, 2 sessions per day \\ncovering 3 regions\\n• A popular and effective way of engaging the \\nrural target audience, the MVU showcased \\nrecorded videos and documentaries promoting \\nthe campaign’s key messages.\\n• After the viewing, audiences were guided \\nin discussion by a facilitator, with feedback \\ncaptured on film.\\n• Regions were selected as those with low financial \\nliteracy, identified by FinScope Tanzania 2017\\n• Regional media partnerships and engagement \\nwith local influencers were used to hype and \\nrecruit participants.“What method should we use so that young people can get \\neducation in financial matters? We should invest in skills \\neducation instead of theory.” - Mwita Abdulla Suleiman - \\nAlsumait University, Zanzibar\\n“Now is the time for young people not to just observe change, \\nbut to be a part of it.”  - Dr. Tulia Ackson Naibu, Government \\nof Tanzania, Deputy Speaker \\n“IBUA! is the right platform for young people to share their \\nchallenges, so that we, the Bank of Tanzania, and other \\nstakeholders involved in the financial sector, can hear your \\nviews and act on them.” - Dr. Bernard Kibesse, Bank of \\nTanzania, Deputy Governor PAGE 10PAGE 13\\nImpact\\nDue to the growing youth population, there is an increasing \\nnumber of multi-channel campaigns using broadcast, PR and \\nsocial media as an effective way to reach young people, for \\nexample the 2018 Furaha yangu campaign encouraging HIV \\ntesting among youth. \\nThe IBUA! campaign is the first in Tanzania and East Africa \\nto raise awareness and engage youth with stakeholders in \\ndialogue about financial inclusion. The campaign was launched \\nin September 2019 using multi-channel communication and \\nstakeholder engagement activities running until June 2020. \\nMonitoring and evaluation of engagement and \\nimplementations is ongoing against expected impact of \\ncampaign activities.\\nENGAGEMENT STRATEGY\\nA key element in the IBUA! campaign strategy was the \\nongoing engagement strategy to first raise awareness and \\ninterest in financial inclusion among youth and financial sector \\nstakeholders. The next stage was to mobilise participants and \\naudiences within dialogue during debates and on social media \\naround the challenges and opportunities for greater youth \\nfinancial inclusion.Gender inclusive youth inclusion\\n“This debate should be the start of many more \\ndiscussions. Let us continue to reach young people, \\nespecially female youth as one of the largest groups \\nthat have been excluded from formal financial \\nservices.”\\nHon Ashatu k. Kijaji, Government of Tanzania, \\nDeputy Minister of Finance & Planning\\nIMPACT 1\\nINCREASED KNOWLEDGE OF YOUTH \\nINFORMATION AND GAPS TO ACCESS \\nAND USAGE OF FORMAL FINANCIAL \\nSOLUTIONS\\nKey positive impact has been made within IBUA! \\ncampaign objectives to:\\n• steer dialogue between youth, service \\nproviders and regulators towards addressing \\nfinancial inclusion gaps in access and usage, \\nand \\n• improve knowledge on both the supply and \\ndemand side.\\nHigh volume and quality of interaction across all \\nactivities.  It is clear that youth are well aware of the \\nissues they are facing regarding financial inclusion and are keen to share and raise awareness of them across \\nthe sector. An effective approach was the iterative \\nprocess to inform campaign content, particularly the \\ndramas and comedy skits, using interaction and insight \\nfrom youth captured throughout the engagement \\nprocess.\\nGender inclusive participation.  FSDT partnered with \\nwomen-based local civil society organisations (CSOs) \\nto reach their stakeholders, featured gender-based \\nissues in video series and comedy skits and gender \\ninclusive participation in debates was encouraged, \\nincluding a specific women-focussed MVU session \\nin Zanzibar held in the morning, which is more \\nconvenient for female youth.\\nActive youth participation and feedback from \\ngovernment, regulator and service provider \\nrepresentatives show promising indications of \\nknowledge transfer of the challenges and opportunities \\nin youth financial inclusion. Many industry players \\ncommented on the value of the debate arguments and \\nsome banks and insurance providers have made direct \\napproaches to youth speakers for more information \\nand to explore partnership opportunities.PAGE 12\\nDigital strategy\\nAs early adopters of digital communication technology, with smartphone ownership rising to 13%  and access to the internet to \\n33% in 2017, youth are now among the leading socio-demographic groups using social media in Tanzania.  \\nA key component of the IBUA! campaign , the digital strategy aimed to target industry stakeholders and all segments of the \\nyouth audience using social media Facebook, Instagram, Twitter and YouTube. The value of digital communication is the cost-\\neffective reach among target audiences, encouraging interaction and content to be shared.\\nWE PROPOSE TO CREATE INDEPENDENT (NEUTRAL)  CAMPAIGN DIGITAL HANDLES\\nPartnerships\\nTo effect lasting change and bridge the age gap in financial inclusion, it is crucial that key \\nstakeholders from across the finance sector work in partnership to understand, interpret and \\nact on market evidence to expand and deepen the youth market. \\nThe considerable untapped value of this market to the sector and the economy calls for \\naction from \\n• policy makers to reduce legal and regulatory barriers\\n• civil society organisations to advocate and engage with youth\\n• service providers to understand and meet the needs of young people\\n• private sector to enable entrepreneurship among young adults\\n• media to promote key messages, raise awareness and encourage dialogue\\n• development partners to support youth strategiesFACEBOOK \\nTARGET: Younger and older youth\\nCONTENT: More Kiswahili text-rich content, videos, pictures \\nINFLUENCERS:  All campaign key resource persons, partners\\nTACTICS: We do organic posts. Ads buy for page followers \\nacquisitions and promote most engaged content\\nINSTAGRAM\\nTARGET: Younger and older youth\\nCONTENT: More Kiswahili content, videos, pictures \\nINFLUENCERS:  All campaign key resource persons, partners\\nTACTICS: We do organic posts. Ads buy for page followers \\nacquisitions and promote most engaged content\\nTo engage with youth, content was informed by real-life insights from Village Story interaction with young people from around \\nthe country. These insights informed the settings, characters and issues that were scripted into entertaining video and audio \\ndramas and comedic skits. Videos were broadcast online, during mobile video unit sessions and through free TV take-up as a \\nresult of PR activity.TWITTER \\nTARGET: Policymakers, Donor community, FSP’s, CSO\\nCONTENT: More English content and pictures \\nINFLUENCERS:  Recruit twitter influencers to push content, \\nlinks and steer conversations\\nTACTICS: Use hashtags, live tweets, tag individuals/organizations\\nYOUTUBE\\nTARGET: Campaign-wide target audience\\nCONTENT: All campaign video content\\nTACTICS: Post then promote the link via other channels  \\n(Twitter, Radio, Facebook, Instagram)PAGE 14\\n PAGE 15\\nIMPACT 2\\nSTIMULATE NEW CONCEPTS AND IDEAS OF SOLUTIONS AND PRODUCTS GEARED TOWARDS \\nYOUTH\\nFSDT has made great progress in achieving the IBUA! campaign objectives to:\\n• provide a platform where youth can discuss their issues and think around solutions to their problems, and \\n• ignite behavioural change in youth towards embracing financial services.\\nEvidence-based approach to expand inclusive finance.  It was encouraging that student debate speakers made extensive \\nuse of data and insights from FinScope Tanzania 2017 and FinSights Lab during debates to support their motions for \\nsolutions to the challenges to greater youth financial inclusion. \\nAddressing challenges facing all youth, particularly younger youth who are faced with additional barriers of lack of \\nidentification documentation and financial literacy.  Sector stakeholders were able to hear the experience of many \\nyouth who were not recognised as valued customers by financial service providers and had difficulties finding financial \\nsolutions which met their needs or fulfilling lengthy bureaucratic registration procedures.\\nEven within this initial stage of engagement, young people have demonstrated the potential to be drivers for new \\nsolutions to expand and deepen the youth market. Many valuable contributions were made with recommendations \\non how to overcome stringent Know-Y our-Customer requirements, bridge the financial education gap, expand formal \\nservices and use appropriate communication channels to reach youth.\\nMedia outreach\\nRADIO\\nCloudsFM has the largest market share of the national radio \\naudience in Tanzania and many youth living in rural areas \\nlisten to regional stations. Both were used as channels to \\ndistribute the IBUA! dramas and comedy skits with 7 paid for \\nslots on CloudsFM and 1 each on 7 regional stations. FSDT \\nwas successful in developing partnerships with the radio \\nstations who took ownership of the campaign and provided \\nfree promotion across their programming and even invited \\ndebate winners to come to the station and be interviewed \\nabout the IBUA! debate events and their views. \\nDIGITAL\\nThe number of active social media users in Tanzania has \\nbeen growing and had reached nearly 45 million in 20183. \\nThe reach of the IBUA! campaign was upward of 7,788,116 \\npeople through digital platforms with active engagement \\nfrom fintechs, financial service providers and a large number \\nof young people. There was a sharp increase in reposts and \\nsharing during university debates.3,854,883  \\nInstagram  \\nreach  3,933,233  \\nFacebook  \\nreach  564,200  \\nTwitter \\nimpressions  17,291  \\nYouTube  \\nviews   \\nInstagram outperformed other channels in terms of number \\nof impressions and engagement. There was more interest in \\nthe drama series videos than Village Story, with 4,158 views \\nfor the best performing video and a high level of Instagram \\nactivity generated by the comedic skits.\\nHashtags were used to extend the reach of the campaign \\nwhich were used by influencers to drive up impressions. \\nCloudsFM shared a total of 114 posts, 38 posts per channel \\n(Facebook, Instagram and Twitter) and generated 1,793,049 \\nimpressions. \\nIndividual influencers have increased the reach using Twitter, \\ngenerating over 2 million impressions from under 40 tweets \\nusing the IBUA and NawezaNafanyaNashinda hashtags.\\n#NawezaNafanyaNashinda:\\n2.3 M   \\nIMPRESSIONS  #ibua:\\n2.1 M  \\nIMPRESSIONS  PAGE 17\\nPartner feedback\\nPOLICY MAKERS TO REDUCE LEGAL AND \\nREGULATORY BARRIERS\\nThere was significant representation and participation from \\nthe government and Central Bank at the university events. \\nThe Deputy Governor of the Bank of Tanzania, Dr. Bernard \\nKibesse, has stated that he was impressed by the debates. \\nCIVIL SOCIETY ORGANISATIONS TO ADVOCATE \\nAND ENGAGE WITH YOUTH\\nMany youth and gender-based CSOs were keen to join \\nthe IBUA! campaign and reach out to their stakeholders \\nto mobilise them to raise awareness of the challenges and \\nopportunities in youth financial inclusion.\\nFeedback was overwhelmingly positive with strong \\ncommitment to further the effort to involve young people in \\nbridging the age gap, particularly for those who are hard-to-\\nreach, living in rural areas and out of education.\\n“Youth still face many barriers in accessing \\nfinancial services, including restrictions in the legal \\nand regulatory environment, inappropriate and \\ninaccessible products and services, and low financial \\ncapabilities. Overcoming these barriers and achieving \\nsuccessful youth financial inclusion requires a multi-\\nstakeholder approach that engages government \\n(including policymakers, regulators and line \\nministries), financial service providers, youth serving \\norganisations and other youth stakeholders. Youth, of \\ncourse, need to be at the centre of this dialogue.”\\nArif Noorally Fazel, Tanzania Y outh Vision \\nAssociation, Political, Educational and \\nCommunications ConsultantMEDIA TO PROMOTE KEY MESSAGES, RAISE \\nAWARENESS AND ENCOURAGE DIALOGUE\\nThe media partners took ownership of the IBUA! campaign \\nwith cross-programme promotion in addition to purchased \\nairtime and invitations to debate finalists to visit the station \\nand be interviewed on their experience during the IBUA! \\nDebates.\\nMulti-stakeholder participation: IBUA! campaign  partners \\nfrom the government, financial service provision, regulatory, \\nacademic, civil society and private sectors actively participated \\nin the university debate events with speeches introducing \\ntheir companies and promotional booths, product promotion \\nand biometric registrations offered to students.\\nFSDT partnered with universities in Dar es Salaam, Mwanza, \\nMorogoro and Dodoma to host the debates, provide venues \\nand logistics. The IBUA campaign provided an important platform \\nto begin the discussion on financial inclusion between \\nthe government, financial service providers and \\nyoung people. Looking to the future, YUNA is keen \\nto further the partnership with FSDT to continue the \\ndiscussion and raise awareness among hard-to-reach \\nyouth and those out of education.”\\nKelvin Edward, Y outh of United Nations \\nAssociation of Tanzania (YUNA), Secretary \\nGeneralPAGE 16\\nImpact stories\\nSMARTCLASS ONLINE LEARNING PLATFORM\\nDeveloped in the Innovation Hub in Dar es Salaam University \\nand launched in January 2019, SmartClass connects learners \\nto certified, qualified and verified tutors both online and \\noffline. Co-founded by Adam Duma, a 24-year-old student \\nat Dar es Salaam University and IBUA! debate finalist.\\nWith growing success in the more wealthy, urban market, \\nSmartClass looked to gain partnership and investment to \\nexpand and deepen its customer base using solutions which \\nare appropriate and affordable to both higher and lower-\\nincome families. \\nBENEFITS FROM IBUA! CAMPAIGN\\nFinalist in Dar es Salaam IBUA! debate.  One of two selected \\nspeakers from his university, Adam benefitted from the \\nFSDT-led training and exposure to market data to give him \\nconfidence to make a professional presentation discussing \\n“The potential for financial education to improve financial \\ninclusion, starting at an early age, in primary school.”  His \\ncompelling arguments, informed by robust, up-to-date data, \\nearned him a place as a regional finalist and the opportunity \\nto compete in the national competition.Evidence-based insights to grow his business.  Although the \\nTanzanian Communication Regulatory Authority (TCRA) \\nprovides data on income, communication usage and age, \\ninsights from FSDT’s FinSights Bridging the Age Gap \\nreport offered more detailed youth market data on internet, \\nmobile device and e-money usage. This gave Adam increased \\ncredibility and confidence in planning new business models \\nfor appropriate and affordable education solutions for \\nfamilies on all income levels, living in both urban and rural \\nareas. The IBUA! debate experience also gave Adam a better \\nunderstanding of how the government, regulators and the \\nBank of Tanzania policies can help enable innovation. \\nIncreased business confidence to innovate.  The new \\nknowledge has increased Adam’s confidence to work to \\nrealise his dream to make a difference, continue to innovate \\nevery day and to convince investors to see and understand the \\nvision of creating a mobile app that would be an international \\ne-learning hub in Africa. Adam is committed to the drive to \\nimprove financial education among young people and looks \\nforward to contributing further in the future.\\nKnowledge into practice\\n“The IBUA! data and technical support gave me confidence to overcome business risks and launch new solutions - from \\nan online payment platform for rural families to a new pricing model that was affordable for all income levels.” \\nAdam Duma, SmartClass, co-founderSMARTME ONLINE SAVING PLATFORM\\nLaunched in December 2018, SmartMe provides an easy-to-\\nuse online savings platform that meets the needs of young \\npeople. Co-founded by Innocent Mathias, a 23-year-old \\nstudent at Muhimbili University (Muhas) in Dar es Salaam \\nand IBUA! debate finalist.\\nWith high unemployment and lack of capacity to maximise \\ntheir economic potential, savings should be a means for \\nyoung people to plan for the future and build resilience \\nagainst unexpected financial shocks. However, most youth \\ndo not save due to lack of financial literacy and knowledge, \\nlengthy bureaucratic processes and low awareness of the \\nbenefits, terms and conditions of savings. Innocent is now \\nworking to gain investment to overcome these barriers and \\nlaunch a solution for customer testing.\\nBENEFITS FROM IBUA! CAMPAIGN\\nFinalist in Dar es Salaam IBUA! debate.  Through the FSDT-\\nled training, Innocent learned more about public speaking and \\nbenefitted from input from mentors. A positive consequence \\nof participating in the debate has been growing his network \\nand increasing the visibility of SmartMe. As well as earning a \\nplace as a regional finalist and the opportunity to compete in \\nPAGE 19 PAGE 18\\nthe national competition, he has received media attention and \\nbeen contacted by representatives from other universities \\nwho want to be ambassadors and contribute to greater youth \\nfinancial inclusion.\\nEvidence-based insights to grow his business.  With FSDT-\\nled coaching, Innocent benefitted from the training and data \\nfrom the FinScope Tanzania 2017 and FinSights Bridging the \\nAge Gap reports which gave valuable insight on the savings \\nsector, youth, communication technology and barriers to \\nformal financial services and, in fact, proposed a savings \\nmobile app.\\nIncrease partnership opportunities.  Participation in the \\nIBUA! debate increased visibility, interest and interactions \\nfor SmartMe and created opportunities to develop \\npartnerships with potential investors and meetings with key \\nfinance stakeholders, including the Bank of Tanzania, the \\nCapital Markets and Securities Authority (CMSA) and the \\nUnity Trust Bank (UTB).\\nInnocent has gained confidence in making professional \\npresentations and through coaching, exposure to market \\ndata and new contacts, is confident he can find investment to \\nlaunch SmartMe and encourage greater savings among youth \\nto empower them to be more independent.\\nImportant milestone in life journey\\n“Through IBUA! I have gained valuable skills and been able to substantiate customer and market knowledge to develop \\ninnovative ideas for the long-term growth of SmartMe.”\\nInnocent Mathias, SmartMe, co-founder\\nLearning & next steps\\nKEY LEARNING INCLUDED:\\n• The high volume and quality of interaction among \\nyoung people suggest significant awareness \\nand appetite among young people to engage in \\ndiscussion and share knowledge with financial sector \\nstakeholders. \\n• FSDT was successful in selecting partners who share \\ncommitment to improving youth financial inclusion. \\nThose with youth and gender-based civil society \\norganisations (CSOs) broadened campaign reach and \\nmade significant progress to mobilise hard-to-reach \\nyouth groups.\\n• The IBUA! campaign  provided an effective platform \\nfor youth to discuss their issues and think around \\nsolutions to their problems. \\n• Data and evidence were widely used by university \\ndebate participants to substantiate their arguments.\\n• More time could have been spent on data workshops \\nand preparations for debates.\\n• Local stakeholder coordination could have been \\nimproved by gaining buy-in from local influencers \\nto engage youth, particularly women, those out of \\neducation and those living in remote areas.\\n• Constraints of time and resources limited ability to \\nfulfil stakeholder engagement and use youth insights \\nto respond, work up recommendations and create \\naction plan.United Nations Youth\\n“Youth still face many barriers in accessing \\nfinancial services, including restrictions in the legal \\nand regulatory environment, inappropriate and \\ninaccessible products and services, and low financial \\ncapabilities. \\nOvercoming these barriers and achieving successful \\nyouth financial inclusion requires a multi-stakeholder \\napproach that engages government (including \\npolicymakers, regulators and line ministries), financial \\nservice providers, youth serving organisations and \\nother youth stakeholders. Youth, of course, need to be \\nat the centre of this dialogue.”\\nSource: Financial Inclusion of Youth, United Nations Youth, 2012\\nNEXT STEPS:\\n• Facilitate greater engagement of regulators and \\nmajor financial service providers with young people \\nto better understand and address challenges and \\nopportunities presented by the youth market, \\nparticularly hard-to-reach segments.\\n• Continue with wider market engagements to \\ncontinue multi-stakeholder dialogue and discussion.\\n• Source funds to build on success of IBUA! campaign \\nand carry out more youth activities.\\n• Develop partnerships with major media houses to \\nbroadcast university debates. Sustainability \\nUseful linksTo build on the successful impacts of the IBUA! \\ncampaign, FSDT plans to:\\n• Develop partnerships with financial service \\nproviders and youth focused CSOs\\n• Deliberate strategy to focus on youth \\nmarket as seen in the development of a \\nyouth strategy \\n• Consider youth market in all FSDT’s \\nprojectsFINSCOPE TANZANIA 2017  https://www.fsdt.or.tz/wp-\\ncontent/uploads/2017/09/Finscope.pdf\\nYOUTH FINANCIAL INCLUSION SUMMARY https://www.\\nfsdt.or.tz/wp-content/uploads/2021/05/Y outh-Financial-Inclusion.\\npdf\\nFINSIGHTS LAB AGE GAP REPORT  https://www.fsdt.\\nor.tz/finsightslab/wp-content/uploads/2018/08/FinSights_Lab_\\nY outhGap_Report_2018.pdfPAGE 20PAGE 22\\n \\n \\n \\n \\n \\n \\nwww.fsdt.or.tzwww.fsdt.or.tz\\n+ 255 222 602873/5/6\\n        @fsdtanzania Financial Sector Deepening Trust\\n2nd Floor “De Ocean Plaza”\\nPlot 400 Toure Drive Oysterbay\\nPO Box 4653\\nDar es Salaam, Tanzania'"
            ],
            "application/vnd.google.colaboratory.intrinsic+json": {
              "type": "string"
            }
          },
          "metadata": {},
          "execution_count": 9
        }
      ]
    },
    {
      "cell_type": "code",
      "source": [
        "raw_text[:100]"
      ],
      "metadata": {
        "colab": {
          "base_uri": "https://localhost:8080/",
          "height": 35
        },
        "id": "CQkqUBlzW-Xv",
        "outputId": "065c089e-ce9b-4179-9008-ed685d47ec21"
      },
      "execution_count": null,
      "outputs": [
        {
          "output_type": "execute_result",
          "data": {
            "text/plain": [
              "'PAGE 1\\nPOWERED BY\\nUnlocking mechanisms \\nfor greater youth  \\nfinancial INCLUSIONFSDT FOCUS NOTE\\nNeema'"
            ],
            "application/vnd.google.colaboratory.intrinsic+json": {
              "type": "string"
            }
          },
          "metadata": {},
          "execution_count": 10
        }
      ]
    },
    {
      "cell_type": "code",
      "source": [
        "# We need to split the text that we read into smaller chunks so that during information retreival we don't hit the token size limits.\n",
        "\n",
        "text_splitter = CharacterTextSplitter(\n",
        "    separator = \"\\n\",\n",
        "    chunk_size = 1000,\n",
        "    chunk_overlap  = 200,\n",
        "    length_function = len,\n",
        ")\n",
        "texts = text_splitter.split_text(raw_text)"
      ],
      "metadata": {
        "id": "VdXzkpf9XAfP"
      },
      "execution_count": null,
      "outputs": []
    },
    {
      "cell_type": "code",
      "source": [
        "len(texts)"
      ],
      "metadata": {
        "colab": {
          "base_uri": "https://localhost:8080/"
        },
        "id": "ozkNTiNuZ0TX",
        "outputId": "34955a9f-eddf-41cf-dc9d-8087c0c0f779"
      },
      "execution_count": null,
      "outputs": [
        {
          "output_type": "execute_result",
          "data": {
            "text/plain": [
              "10"
            ]
          },
          "metadata": {},
          "execution_count": 12
        }
      ]
    },
    {
      "cell_type": "code",
      "source": [
        "texts[0]"
      ],
      "metadata": {
        "colab": {
          "base_uri": "https://localhost:8080/",
          "height": 174
        },
        "id": "1SqdR3wFZ3Ih",
        "outputId": "50a36ef5-d280-43e0-94d0-0f8964db1e29"
      },
      "execution_count": null,
      "outputs": [
        {
          "output_type": "execute_result",
          "data": {
            "text/plain": [
              "'PAGE 1\\nPOWERED BY\\nUnlocking mechanisms \\nfor greater youth  \\nfinancial INCLUSIONFSDT FOCUS NOTE\\nNeema Mosha, Advisor - Communications, FSDT      \\nVictor Kyando, Officer - Communications, FSDTFebruary 2021Standing at 1.2 billion, young people account for 1 in 6 of \\nthe global population1 and are growing rapidly in number. \\nHowever, despite the size of this age group, youth face \\nsignificant economic and social barriers to inclusion within \\neducation, employment, health services, civic participation \\nand the financial sector. \\nFinancial exclusion limits young people from benefitting from \\na wide range of products and services that can help them build \\nhousehold income and resilience, protect, and strengthen \\ntheir families, weather unexpected financial shocks and \\nimprove their livelihoods. Unlocking mechanisms for  \\ngreater youth financial inclusionINTRODUCTION\\nAGE DISTRIBUTION\\n16-24 25-34 35-44 45-54 55-64 65-older26% 26%\\n19%\\n14%\\n7%8%\\nSource: FinScope Tanzania 2017 April-JulyYOUTH 1/4'"
            ],
            "application/vnd.google.colaboratory.intrinsic+json": {
              "type": "string"
            }
          },
          "metadata": {},
          "execution_count": 12
        }
      ]
    },
    {
      "cell_type": "code",
      "source": [
        "texts[1]"
      ],
      "metadata": {
        "colab": {
          "base_uri": "https://localhost:8080/",
          "height": 105
        },
        "id": "059PoKYUZ6dJ",
        "outputId": "1667c57c-8116-4a00-84a4-389159a00753"
      },
      "execution_count": null,
      "outputs": [
        {
          "output_type": "execute_result",
          "data": {
            "text/plain": [
              "'Source: Tanzania population demographics www.pristech.ltdUnderstanding Millenials & Gen-Z•They want to live now •They are digital citizens •Prefer short term contracts than lifetime contracts •They are driven by trends than culture •They don’t have ﬁxed assets •They don’t have credit history •They do small but many transactions\\nwww.pristech.ltdSuccessful use casesIn Tanzania services like Songesha have validated the need for micro loans in form of buy now pay later model where as per Vodacom annual report 2022, Songesha has offered about Tsh562 billion with annual growth of 22.4% in revenues from last year and 40% growth in number of beneﬁciaries from last year. Source: Vodacom Tanzania annual report'"
            ],
            "application/vnd.google.colaboratory.intrinsic+json": {
              "type": "string"
            }
          },
          "metadata": {},
          "execution_count": 14
        }
      ]
    },
    {
      "cell_type": "code",
      "source": [
        "# Download embeddings from OpenAI\n",
        "embeddings = OpenAIEmbeddings()"
      ],
      "metadata": {
        "id": "TcZUsQVyXBPX"
      },
      "execution_count": null,
      "outputs": []
    },
    {
      "cell_type": "code",
      "source": [
        "docsearch = FAISS.from_texts(texts, embeddings)"
      ],
      "metadata": {
        "id": "9C8py6wQXE5_"
      },
      "execution_count": null,
      "outputs": []
    },
    {
      "cell_type": "code",
      "source": [
        "docsearch"
      ],
      "metadata": {
        "colab": {
          "base_uri": "https://localhost:8080/"
        },
        "id": "E_t_EpZ_XGz2",
        "outputId": "bdfb2ebe-63e0-448b-da4a-97526419fb5e"
      },
      "execution_count": null,
      "outputs": [
        {
          "output_type": "execute_result",
          "data": {
            "text/plain": [
              "<langchain.vectorstores.faiss.FAISS at 0x7c98230dae00>"
            ]
          },
          "metadata": {},
          "execution_count": 16
        }
      ]
    },
    {
      "cell_type": "code",
      "source": [
        "from langchain.chains.question_answering import load_qa_chain\n",
        "from langchain.llms import OpenAI"
      ],
      "metadata": {
        "id": "wpQ2VnBvXI2f"
      },
      "execution_count": null,
      "outputs": []
    },
    {
      "cell_type": "code",
      "source": [
        "chain = load_qa_chain(OpenAI(), chain_type=\"stuff\")"
      ],
      "metadata": {
        "id": "_L_Ywm-iXLhm"
      },
      "execution_count": null,
      "outputs": []
    },
    {
      "cell_type": "code",
      "source": [
        "query = \"who are the authors of the document?\"\n",
        "docs = docsearch.similarity_search(query)\n",
        "chain.run(input_documents=docs, question=query)"
      ],
      "metadata": {
        "colab": {
          "base_uri": "https://localhost:8080/",
          "height": 53
        },
        "id": "3mtAth2jXNKO",
        "outputId": "72166cc2-b3c3-4765-fe8f-8d90c1150e90"
      },
      "execution_count": null,
      "outputs": [
        {
          "output_type": "execute_result",
          "data": {
            "text/plain": [
              "' The authors of the document are Financial Inclusion of Youth, United Nations Youth, 2012, Arif Noorally Fazel, and Tanzania Youth Vision Association, Political, Educational and Communications Consultant.'"
            ],
            "application/vnd.google.colaboratory.intrinsic+json": {
              "type": "string"
            }
          },
          "metadata": {},
          "execution_count": 19
        }
      ]
    },
    {
      "cell_type": "code",
      "source": [
        "query = \"What was the presentation is about summurise in 5 sentenses\"\n",
        "docs = docsearch.similarity_search(query)\n",
        "chain.run(input_documents=docs, question=query)"
      ],
      "metadata": {
        "colab": {
          "base_uri": "https://localhost:8080/",
          "height": 122
        },
        "id": "RahXBIXjXO7X",
        "outputId": "fe2415dd-4f15-4671-b6a6-5c98e6675e92"
      },
      "execution_count": null,
      "outputs": [
        {
          "output_type": "execute_result",
          "data": {
            "text/plain": [
              "' The presentation was about raising awareness of the challenges youth face when trying to access financial services. It focused on engaging with 16 to 24-year-olds, including those living in rural areas. Storytelling, radio and TV dramas, university debates, and mobile video units (MVUs) were used to engage with the target audience. The presentation also highlighted the success of the IBUA! debate in increasing visibility and creating partnerships. Finally, the presentation discussed how youth can become empowered to act as agents of change and break the cycle of poverty.'"
            ],
            "application/vnd.google.colaboratory.intrinsic+json": {
              "type": "string"
            }
          },
          "metadata": {},
          "execution_count": 20
        }
      ]
    },
    {
      "cell_type": "code",
      "source": [
        "query = \"what are the Challenges to developing youth market\"\n",
        "docs = docsearch.similarity_search(query)\n",
        "chain.run(input_documents=docs, question=query)"
      ],
      "metadata": {
        "colab": {
          "base_uri": "https://localhost:8080/",
          "height": 53
        },
        "id": "EzNcvjRJXSZ4",
        "outputId": "14cf86a5-c973-4ac2-a81e-da6c180dd559"
      },
      "execution_count": null,
      "outputs": [
        {
          "output_type": "execute_result",
          "data": {
            "text/plain": [
              "' The challenges to developing the youth market include restrictions in the legal and regulatory environment, inappropriate and inaccessible products and services, and low financial capabilities.'"
            ],
            "application/vnd.google.colaboratory.intrinsic+json": {
              "type": "string"
            }
          },
          "metadata": {},
          "execution_count": 21
        }
      ]
    },
    {
      "cell_type": "code",
      "source": [
        "query = \"what the solutions to the Challenges to developing youth market\"\n",
        "docs = docsearch.similarity_search(query)\n",
        "chain.run(input_documents=docs, question=query)"
      ],
      "metadata": {
        "colab": {
          "base_uri": "https://localhost:8080/",
          "height": 70
        },
        "id": "Nhx-kpvAXUl3",
        "outputId": "0067a81e-c3b7-4803-d821-54655e02dd3d"
      },
      "execution_count": null,
      "outputs": [
        {
          "output_type": "execute_result",
          "data": {
            "text/plain": [
              "' The solutions to the challenges to developing the youth market include engaging government, financial service providers, youth serving organisations, and other youth stakeholders in a multi-stakeholder approach, as well as using media to promote key messages, raise awareness, and encourage dialogue.'"
            ],
            "application/vnd.google.colaboratory.intrinsic+json": {
              "type": "string"
            }
          },
          "metadata": {},
          "execution_count": 22
        }
      ]
    },
    {
      "cell_type": "code",
      "source": [
        "query = \"what need to be changed to make it general not for mwanga hakika only\"\n",
        "docs = docsearch.similarity_search(query)\n",
        "chain.run(input_documents=docs, question=query)"
      ],
      "metadata": {
        "colab": {
          "base_uri": "https://localhost:8080/",
          "height": 53
        },
        "id": "kIg91Z0YXXCB",
        "outputId": "d33f99c2-ebb2-416a-ce09-2d5d48248f7f"
      },
      "execution_count": null,
      "outputs": [
        {
          "output_type": "execute_result",
          "data": {
            "text/plain": [
              "' The proposal seeks to make changes to the credit scoring methodology to make it applicable to other financial institutions in the market, not just Mwanga Hakika. The underlying technology and financial resources would need to be adjusted to accommodate this change.'"
            ],
            "application/vnd.google.colaboratory.intrinsic+json": {
              "type": "string"
            }
          },
          "metadata": {},
          "execution_count": 24
        }
      ]
    },
    {
      "cell_type": "code",
      "source": [
        "query = \"what would make this document even more convicing to mwanga hakika\"\n",
        "docs = docsearch.similarity_search(query)\n",
        "chain.run(input_documents=docs, question=query)"
      ],
      "metadata": {
        "colab": {
          "base_uri": "https://localhost:8080/",
          "height": 87
        },
        "id": "D02sIID3XagO",
        "outputId": "8a26a698-07de-44d6-e660-f587c7afbe7c"
      },
      "execution_count": null,
      "outputs": [
        {
          "output_type": "execute_result",
          "data": {
            "text/plain": [
              "\" This document could be made more convincing to Mwanga Hakika by providing more detailed examples of how the Sure Credit system will positively impact the bank's ability to offer micro-loans, BNPL products, credit cards, and unsecured personal loans. Additionally, providing data that supports the claim of a potential 2 trillion shillings in lost opportunity due to difficulties in assessing creditworthiness in Tanzania could further convince Mwanga Hakika of the value of the Sure Credit system.\""
            ],
            "application/vnd.google.colaboratory.intrinsic+json": {
              "type": "string"
            }
          },
          "metadata": {},
          "execution_count": 26
        }
      ]
    },
    {
      "cell_type": "code",
      "source": [],
      "metadata": {
        "id": "qLynnMo0cj8m"
      },
      "execution_count": null,
      "outputs": []
    }
  ]
}